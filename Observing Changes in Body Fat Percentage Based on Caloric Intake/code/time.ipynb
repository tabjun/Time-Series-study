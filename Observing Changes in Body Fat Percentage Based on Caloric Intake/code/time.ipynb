{
 "cells": [
  {
   "cell_type": "code",
   "execution_count": 1,
   "metadata": {},
   "outputs": [],
   "source": [
    "import pandas as pd\n",
    "import numpy as np\n",
    "import os\n",
    "import matplotlib.pyplot as plt\n",
    "import seaborn as sns\n",
    "import statsmodels.api as sm\n",
    "from datetime import datetime\n",
    "import matplotlib.dates as mdates\n",
    "import openpyxl\n"
   ]
  },
  {
   "cell_type": "code",
   "execution_count": 2,
   "metadata": {},
   "outputs": [],
   "source": [
    "from matplotlib import font_manager, rc\n",
    "font_path = \"C:/Windows/Fonts/NGULIM.TTF\"\n",
    "font = font_manager.FontProperties(fname=font_path).get_name()\n",
    "rc('font', family=font)"
   ]
  },
  {
   "attachments": {},
   "cell_type": "markdown",
   "metadata": {},
   "source": [
    "#### 데이터 불러오기"
   ]
  },
  {
   "cell_type": "code",
   "execution_count": 3,
   "metadata": {},
   "outputs": [
    {
     "data": {
      "text/html": [
       "<div>\n",
       "<style scoped>\n",
       "    .dataframe tbody tr th:only-of-type {\n",
       "        vertical-align: middle;\n",
       "    }\n",
       "\n",
       "    .dataframe tbody tr th {\n",
       "        vertical-align: top;\n",
       "    }\n",
       "\n",
       "    .dataframe thead th {\n",
       "        text-align: right;\n",
       "    }\n",
       "</style>\n",
       "<table border=\"1\" class=\"dataframe\">\n",
       "  <thead>\n",
       "    <tr style=\"text-align: right;\">\n",
       "      <th></th>\n",
       "      <th>날짜</th>\n",
       "      <th>시간대</th>\n",
       "      <th>섭취 kcal</th>\n",
       "      <th>걸음수(일일누적)</th>\n",
       "      <th>운동시간(H)</th>\n",
       "      <th>수면시간(H)</th>\n",
       "      <th>기온(*C)</th>\n",
       "      <th>몸무게(kg)</th>\n",
       "      <th>BMI</th>\n",
       "      <th>체지방률(%)</th>\n",
       "      <th>골격근량(kg)</th>\n",
       "      <th>Unnamed: 11</th>\n",
       "    </tr>\n",
       "  </thead>\n",
       "  <tbody>\n",
       "    <tr>\n",
       "      <th>0</th>\n",
       "      <td>2023-03-17</td>\n",
       "      <td>06:00~12:00</td>\n",
       "      <td>0</td>\n",
       "      <td>1737.0</td>\n",
       "      <td>0.0</td>\n",
       "      <td>6</td>\n",
       "      <td>7</td>\n",
       "      <td>91.07</td>\n",
       "      <td>30.08</td>\n",
       "      <td>27.9</td>\n",
       "      <td>37.43</td>\n",
       "      <td>NaN</td>\n",
       "    </tr>\n",
       "    <tr>\n",
       "      <th>1</th>\n",
       "      <td>2023-03-17</td>\n",
       "      <td>12:00~18:00</td>\n",
       "      <td>1801</td>\n",
       "      <td>5247.0</td>\n",
       "      <td>0.0</td>\n",
       "      <td>6</td>\n",
       "      <td>13</td>\n",
       "      <td>91.83</td>\n",
       "      <td>30.33</td>\n",
       "      <td>32.3</td>\n",
       "      <td>35.35</td>\n",
       "      <td>NaN</td>\n",
       "    </tr>\n",
       "    <tr>\n",
       "      <th>2</th>\n",
       "      <td>2023-03-17</td>\n",
       "      <td>18:00~00:00</td>\n",
       "      <td>745</td>\n",
       "      <td>7025.0</td>\n",
       "      <td>0.0</td>\n",
       "      <td>6</td>\n",
       "      <td>8</td>\n",
       "      <td>91.50</td>\n",
       "      <td>30.22</td>\n",
       "      <td>35.3</td>\n",
       "      <td>33.49</td>\n",
       "      <td>NaN</td>\n",
       "    </tr>\n",
       "    <tr>\n",
       "      <th>3</th>\n",
       "      <td>2023-03-18</td>\n",
       "      <td>06:00~12:00</td>\n",
       "      <td>0</td>\n",
       "      <td>537.0</td>\n",
       "      <td>0.0</td>\n",
       "      <td>8</td>\n",
       "      <td>13</td>\n",
       "      <td>92.84</td>\n",
       "      <td>30.66</td>\n",
       "      <td>35.5</td>\n",
       "      <td>33.89</td>\n",
       "      <td>NaN</td>\n",
       "    </tr>\n",
       "    <tr>\n",
       "      <th>4</th>\n",
       "      <td>2023-03-18</td>\n",
       "      <td>12:00~18:00</td>\n",
       "      <td>1019</td>\n",
       "      <td>2537.0</td>\n",
       "      <td>0.0</td>\n",
       "      <td>8</td>\n",
       "      <td>12</td>\n",
       "      <td>92.71</td>\n",
       "      <td>30.62</td>\n",
       "      <td>32.0</td>\n",
       "      <td>35.79</td>\n",
       "      <td>NaN</td>\n",
       "    </tr>\n",
       "  </tbody>\n",
       "</table>\n",
       "</div>"
      ],
      "text/plain": [
       "          날짜          시간대  섭취 kcal  걸음수(일일누적)  운동시간(H)  수면시간(H)  기온(*C)  \\\n",
       "0 2023-03-17  06:00~12:00        0     1737.0      0.0        6       7   \n",
       "1 2023-03-17  12:00~18:00     1801     5247.0      0.0        6      13   \n",
       "2 2023-03-17  18:00~00:00      745     7025.0      0.0        6       8   \n",
       "3 2023-03-18  06:00~12:00        0      537.0      0.0        8      13   \n",
       "4 2023-03-18  12:00~18:00     1019     2537.0      0.0        8      12   \n",
       "\n",
       "   몸무게(kg)    BMI  체지방률(%)  골격근량(kg) Unnamed: 11  \n",
       "0    91.07  30.08     27.9     37.43         NaN  \n",
       "1    91.83  30.33     32.3     35.35         NaN  \n",
       "2    91.50  30.22     35.3     33.49         NaN  \n",
       "3    92.84  30.66     35.5     33.89         NaN  \n",
       "4    92.71  30.62     32.0     35.79         NaN  "
      ]
     },
     "execution_count": 3,
     "metadata": {},
     "output_type": "execute_result"
    }
   ],
   "source": [
    "train = pd.read_excel('C:\\\\Users\\\\jun99\\\\OneDrive - 계명대학교\\\\시계열 자료.xlsx')\n",
    "train.head()"
   ]
  },
  {
   "attachments": {},
   "cell_type": "markdown",
   "metadata": {},
   "source": [
    "##### 일별 최고, 최저, 평균 값 출력"
   ]
  },
  {
   "cell_type": "code",
   "execution_count": 4,
   "metadata": {},
   "outputs": [
    {
     "data": {
      "text/plain": [
       "Index(['날짜', '시간대', '섭취 kcal', '걸음수(일일누적)', '운동시간(H)', '수면시간(H)', '기온(*C)',\n",
       "       '몸무게(kg)', 'BMI', '체지방률(%)', '골격근량(kg)', 'Unnamed: 11'],\n",
       "      dtype='object')"
      ]
     },
     "execution_count": 4,
     "metadata": {},
     "output_type": "execute_result"
    }
   ],
   "source": [
    "train.columns"
   ]
  },
  {
   "cell_type": "code",
   "execution_count": 5,
   "metadata": {},
   "outputs": [
    {
     "name": "stdout",
     "output_type": "stream",
     "text": [
      "               섭취 kcal    몸무게(kg)        BMI    체지방률(%)   골격근량(kg)\n",
      "                  mean       mean       mean       mean       mean\n",
      "날짜                                                                \n",
      "2023-03-17  848.666667  91.466667  30.210000  31.833333  35.423333\n",
      "2023-03-18  778.333333  93.026667  30.723333  34.333333  35.010000\n",
      "2023-03-19  715.000000  93.193333  30.780000  32.200000  35.913333\n",
      "2023-03-20  546.666667  91.620000  30.263333  33.500000  34.876667\n",
      "2023-03-21  809.666667  92.253333  30.470000  35.266667  33.516667\n",
      "...                ...        ...        ...        ...        ...\n",
      "2023-06-07  200.000000  86.330000  28.513333  30.033333  34.206667\n",
      "2023-06-08  283.333333  85.413333  28.210000  28.166667  34.636667\n",
      "2023-06-09  166.666667  85.186667  28.140000  25.833333  35.946667\n",
      "2023-06-10  400.000000  85.763333  28.180000  26.666667  36.096667\n",
      "2023-06-11  500.000000  86.650000  28.620000  26.100000  36.480000\n",
      "\n",
      "[87 rows x 5 columns]\n",
      "<class 'pandas.core.frame.DataFrame'>\n",
      "Index: 87 entries, 2023-03-17 to 2023-06-11\n",
      "Data columns (total 5 columns):\n",
      " #   Column            Non-Null Count  Dtype  \n",
      "---  ------            --------------  -----  \n",
      " 0   (섭취 kcal, mean)   87 non-null     float64\n",
      " 1   (몸무게(kg), mean)   87 non-null     float64\n",
      " 2   (BMI, mean)       87 non-null     float64\n",
      " 3   (체지방률(%), mean)   87 non-null     float64\n",
      " 4   (골격근량(kg), mean)  87 non-null     float64\n",
      "dtypes: float64(5)\n",
      "memory usage: 4.1+ KB\n"
     ]
    }
   ],
   "source": [
    "daily_kg = train.groupby(train['날짜'].dt.date)[['섭취 kcal','몸무게(kg)', \n",
    "                                               'BMI', '체지방률(%)', '골격근량(kg)']].agg(['mean'])\n",
    "print(daily_kg)\n",
    "daily_kg.info()"
   ]
  },
  {
   "cell_type": "code",
   "execution_count": 7,
   "metadata": {},
   "outputs": [],
   "source": [
    "daily_kg.to_csv('time_2.csv', encoding='cp949')"
   ]
  },
  {
   "cell_type": "code",
   "execution_count": null,
   "metadata": {},
   "outputs": [],
   "source": []
  }
 ],
 "metadata": {
  "kernelspec": {
   "display_name": "venvtemp",
   "language": "python",
   "name": "python3"
  },
  "language_info": {
   "codemirror_mode": {
    "name": "ipython",
    "version": 3
   },
   "file_extension": ".py",
   "mimetype": "text/x-python",
   "name": "python",
   "nbconvert_exporter": "python",
   "pygments_lexer": "ipython3",
   "version": "3.11.3"
  },
  "orig_nbformat": 4
 },
 "nbformat": 4,
 "nbformat_minor": 2
}
